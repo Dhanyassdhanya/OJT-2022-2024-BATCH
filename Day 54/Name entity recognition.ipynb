{
 "cells": [
  {
   "cell_type": "code",
   "execution_count": 49,
   "id": "b3301043",
   "metadata": {},
   "outputs": [],
   "source": [
    "import re\n",
    "import nltk\n",
    "from nltk.tokenize import word_tokenize"
   ]
  },
  {
   "cell_type": "code",
   "execution_count": 50,
   "id": "d166ac6d",
   "metadata": {},
   "outputs": [],
   "source": [
    "#sample text\n",
    "text=\"John Doe is the CEO of OpenAI.He lives in San Francisco.\""
   ]
  },
  {
   "cell_type": "code",
   "execution_count": 51,
   "id": "a0103047",
   "metadata": {},
   "outputs": [],
   "source": [
    "#lexicons for different entity types\n",
    "person_lexicon = {\"John\", \"Mary\", \"Alice\"}\n",
    "organization_lexicon = {\"Google\", \"Microsoft\", \"Apple\"}\n",
    "location_lexicon = {\"New York\", \"California\", \"Texas\"}\n",
    "\n"
   ]
  },
  {
   "cell_type": "code",
   "execution_count": 52,
   "id": "1ead0316",
   "metadata": {
    "scrolled": true
   },
   "outputs": [
    {
     "name": "stdout",
     "output_type": "stream",
     "text": [
      "Lexicon-based NER:\n",
      "[('John', 'PERSON')]\n"
     ]
    }
   ],
   "source": [
    "\n",
    "def lexicon_based_ner(text):\n",
    "    entities = []\n",
    "    tokens = word_tokenize(text)\n",
    "    for token in tokens:\n",
    "        if token in person_lexicon:\n",
    "            entities.append((token, \"PERSON\"))\n",
    "        elif token in organization_lexicon:\n",
    "            entities.append((token, \"ORG\"))\n",
    "        elif token in location_lexicon:\n",
    "            entities.append((token, \"LOC\"))\n",
    "    return entities\n",
    "print(\"Lexicon-based NER:\")\n",
    "print(lexicon_based_ner(text))\n"
   ]
  },
  {
   "cell_type": "code",
   "execution_count": null,
   "id": "23f9f329",
   "metadata": {},
   "outputs": [],
   "source": []
  }
 ],
 "metadata": {
  "kernelspec": {
   "display_name": "Python 3 (ipykernel)",
   "language": "python",
   "name": "python3"
  },
  "language_info": {
   "codemirror_mode": {
    "name": "ipython",
    "version": 3
   },
   "file_extension": ".py",
   "mimetype": "text/x-python",
   "name": "python",
   "nbconvert_exporter": "python",
   "pygments_lexer": "ipython3",
   "version": "3.11.5"
  }
 },
 "nbformat": 4,
 "nbformat_minor": 5
}
